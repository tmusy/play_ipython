{
 "metadata": {
  "name": "",
  "signature": "sha256:46f5e92027cfe863797014b98ff0fa408d86ba40f056c093fd6dfc66c5f73e1e"
 },
 "nbformat": 3,
 "nbformat_minor": 0,
 "worksheets": [
  {
   "cells": [
    {
     "cell_type": "markdown",
     "metadata": {},
     "source": [
      "#Pandas"
     ]
    },
    {
     "cell_type": "markdown",
     "metadata": {},
     "source": [
      "We use the display function to render the html."
     ]
    },
    {
     "cell_type": "code",
     "collapsed": false,
     "input": [
      "from IPython.core.display import HTML\n",
      "HTML(\"<iframe src=http://pandas.pydata.org width=600 height=350></iframe>\")"
     ],
     "language": "python",
     "metadata": {},
     "outputs": [
      {
       "html": [
        "<iframe src=http://pandas.pydata.org width=600 height=350></iframe>"
       ],
       "metadata": {},
       "output_type": "pyout",
       "prompt_number": 1,
       "text": [
        "<IPython.core.display.HTML at 0x106767950>"
       ]
      }
     ],
     "prompt_number": 1
    },
    {
     "cell_type": "markdown",
     "metadata": {},
     "source": [
      "Pandas has its own representation to have this appearance in the iPython Notebook."
     ]
    },
    {
     "cell_type": "code",
     "collapsed": false,
     "input": [
      "import pandas as pd\n",
      "import pandas.io.data\n",
      "import datetime\n",
      "\n",
      "aapl = pd.io.data.get_data_yahoo('AAPL', \n",
      "                                 start=datetime.datetime(2006, 10, 1), \n",
      "                                 end=datetime.datetime(2015, 1, 4))\n",
      "aapl.head()"
     ],
     "language": "python",
     "metadata": {},
     "outputs": [
      {
       "html": [
        "<div style=\"max-height:1000px;max-width:1500px;overflow:auto;\">\n",
        "<table border=\"1\" class=\"dataframe\">\n",
        "  <thead>\n",
        "    <tr style=\"text-align: right;\">\n",
        "      <th></th>\n",
        "      <th>Open</th>\n",
        "      <th>High</th>\n",
        "      <th>Low</th>\n",
        "      <th>Close</th>\n",
        "      <th>Volume</th>\n",
        "      <th>Adj Close</th>\n",
        "    </tr>\n",
        "    <tr>\n",
        "      <th>Date</th>\n",
        "      <th></th>\n",
        "      <th></th>\n",
        "      <th></th>\n",
        "      <th></th>\n",
        "      <th></th>\n",
        "      <th></th>\n",
        "    </tr>\n",
        "  </thead>\n",
        "  <tbody>\n",
        "    <tr>\n",
        "      <th>2006-10-02</th>\n",
        "      <td> 75.10</td>\n",
        "      <td> 75.87</td>\n",
        "      <td> 74.30</td>\n",
        "      <td> 74.86</td>\n",
        "      <td> 178159800</td>\n",
        "      <td> 10.09</td>\n",
        "    </tr>\n",
        "    <tr>\n",
        "      <th>2006-10-03</th>\n",
        "      <td> 74.45</td>\n",
        "      <td> 74.95</td>\n",
        "      <td> 73.19</td>\n",
        "      <td> 74.08</td>\n",
        "      <td> 197677200</td>\n",
        "      <td>  9.98</td>\n",
        "    </tr>\n",
        "    <tr>\n",
        "      <th>2006-10-04</th>\n",
        "      <td> 74.10</td>\n",
        "      <td> 75.46</td>\n",
        "      <td> 73.16</td>\n",
        "      <td> 75.38</td>\n",
        "      <td> 207270700</td>\n",
        "      <td> 10.16</td>\n",
        "    </tr>\n",
        "    <tr>\n",
        "      <th>2006-10-05</th>\n",
        "      <td> 74.53</td>\n",
        "      <td> 76.16</td>\n",
        "      <td> 74.13</td>\n",
        "      <td> 74.83</td>\n",
        "      <td> 170970800</td>\n",
        "      <td> 10.08</td>\n",
        "    </tr>\n",
        "    <tr>\n",
        "      <th>2006-10-06</th>\n",
        "      <td> 74.42</td>\n",
        "      <td> 75.04</td>\n",
        "      <td> 73.81</td>\n",
        "      <td> 74.22</td>\n",
        "      <td> 116739700</td>\n",
        "      <td> 10.00</td>\n",
        "    </tr>\n",
        "  </tbody>\n",
        "</table>\n",
        "</div>"
       ],
       "metadata": {},
       "output_type": "pyout",
       "prompt_number": 9,
       "text": [
        "             Open   High    Low  Close     Volume  Adj Close\n",
        "Date                                                        \n",
        "2006-10-02  75.10  75.87  74.30  74.86  178159800      10.09\n",
        "2006-10-03  74.45  74.95  73.19  74.08  197677200       9.98\n",
        "2006-10-04  74.10  75.46  73.16  75.38  207270700      10.16\n",
        "2006-10-05  74.53  76.16  74.13  74.83  170970800      10.08\n",
        "2006-10-06  74.42  75.04  73.81  74.22  116739700      10.00"
       ]
      }
     ],
     "prompt_number": 9
    },
    {
     "cell_type": "markdown",
     "metadata": {},
     "source": [
      "The data can be save into a CSV file."
     ]
    },
    {
     "cell_type": "code",
     "collapsed": false,
     "input": [
      "aapl.to_csv('aapl_ohlc.csv')\n",
      "%ls"
     ],
     "language": "python",
     "metadata": {},
     "outputs": [
      {
       "output_type": "stream",
       "stream": "stdout",
       "text": [
        "00_Basics.ipynb\r\n",
        "01_numpy.ipynb\r\n",
        "02_Pandas.ipynb\r\n",
        "02_audio.ipynb\r\n",
        "03_R.ipynb\r\n",
        "04_Cython.ipynb\r\n",
        "DataLab_final_logo__ColourURL_--UPDATED.png\r\n",
        "aapl_ohlc.csv\r\n",
        "deepscore_cnn.py\r\n",
        "\u001b[34mdeepscore_simple_1\u001b[m\u001b[m/\r\n",
        "mnist.pkl.gz\r\n",
        "mnist.py\r\n",
        "mnist.pyc\r\n",
        "mnist_conv.py\r\n",
        "png2pickle.ipynb\r\n",
        "title.ipynb\r\n"
       ]
      }
     ],
     "prompt_number": 10
    },
    {
     "cell_type": "markdown",
     "metadata": {},
     "source": [
      "Lets read it back!"
     ]
    },
    {
     "cell_type": "code",
     "collapsed": false,
     "input": [
      "df = pd.read_csv('aapl_ohlc.csv', index_col='Date', parse_dates=True)\n",
      "df.tail()"
     ],
     "language": "python",
     "metadata": {},
     "outputs": [
      {
       "html": [
        "<div style=\"max-height:1000px;max-width:1500px;overflow:auto;\">\n",
        "<table border=\"1\" class=\"dataframe\">\n",
        "  <thead>\n",
        "    <tr style=\"text-align: right;\">\n",
        "      <th></th>\n",
        "      <th>Open</th>\n",
        "      <th>High</th>\n",
        "      <th>Low</th>\n",
        "      <th>Close</th>\n",
        "      <th>Volume</th>\n",
        "      <th>Adj Close</th>\n",
        "    </tr>\n",
        "    <tr>\n",
        "      <th>Date</th>\n",
        "      <th></th>\n",
        "      <th></th>\n",
        "      <th></th>\n",
        "      <th></th>\n",
        "      <th></th>\n",
        "      <th></th>\n",
        "    </tr>\n",
        "  </thead>\n",
        "  <tbody>\n",
        "    <tr>\n",
        "      <th>2014-12-26</th>\n",
        "      <td> 112.10</td>\n",
        "      <td> 114.52</td>\n",
        "      <td> 112.01</td>\n",
        "      <td> 113.99</td>\n",
        "      <td> 33721000</td>\n",
        "      <td> 113.54</td>\n",
        "    </tr>\n",
        "    <tr>\n",
        "      <th>2014-12-29</th>\n",
        "      <td> 113.79</td>\n",
        "      <td> 114.77</td>\n",
        "      <td> 113.70</td>\n",
        "      <td> 113.91</td>\n",
        "      <td> 27598900</td>\n",
        "      <td> 113.46</td>\n",
        "    </tr>\n",
        "    <tr>\n",
        "      <th>2014-12-30</th>\n",
        "      <td> 113.64</td>\n",
        "      <td> 113.92</td>\n",
        "      <td> 112.11</td>\n",
        "      <td> 112.52</td>\n",
        "      <td> 29881500</td>\n",
        "      <td> 112.08</td>\n",
        "    </tr>\n",
        "    <tr>\n",
        "      <th>2014-12-31</th>\n",
        "      <td> 112.82</td>\n",
        "      <td> 113.13</td>\n",
        "      <td> 110.21</td>\n",
        "      <td> 110.38</td>\n",
        "      <td> 41403400</td>\n",
        "      <td> 109.95</td>\n",
        "    </tr>\n",
        "    <tr>\n",
        "      <th>2015-01-02</th>\n",
        "      <td> 111.39</td>\n",
        "      <td> 111.44</td>\n",
        "      <td> 107.35</td>\n",
        "      <td> 109.33</td>\n",
        "      <td> 53204600</td>\n",
        "      <td> 108.90</td>\n",
        "    </tr>\n",
        "  </tbody>\n",
        "</table>\n",
        "</div>"
       ],
       "metadata": {},
       "output_type": "pyout",
       "prompt_number": 11,
       "text": [
        "              Open    High     Low   Close    Volume  Adj Close\n",
        "Date                                                           \n",
        "2014-12-26  112.10  114.52  112.01  113.99  33721000     113.54\n",
        "2014-12-29  113.79  114.77  113.70  113.91  27598900     113.46\n",
        "2014-12-30  113.64  113.92  112.11  112.52  29881500     112.08\n",
        "2014-12-31  112.82  113.13  110.21  110.38  41403400     109.95\n",
        "2015-01-02  111.39  111.44  107.35  109.33  53204600     108.90"
       ]
      }
     ],
     "prompt_number": 11
    },
    {
     "cell_type": "code",
     "collapsed": false,
     "input": [
      "df.index"
     ],
     "language": "python",
     "metadata": {},
     "outputs": [
      {
       "metadata": {},
       "output_type": "pyout",
       "prompt_number": 12,
       "text": [
        "<class 'pandas.tseries.index.DatetimeIndex'>\n",
        "[2006-10-02, ..., 2015-01-02]\n",
        "Length: 2078, Freq: None, Timezone: None"
       ]
      }
     ],
     "prompt_number": 12
    },
    {
     "cell_type": "code",
     "collapsed": false,
     "input": [
      "df['diff'] = df.Open - df.Close\n",
      "df.head()"
     ],
     "language": "python",
     "metadata": {},
     "outputs": [
      {
       "html": [
        "<div style=\"max-height:1000px;max-width:1500px;overflow:auto;\">\n",
        "<table border=\"1\" class=\"dataframe\">\n",
        "  <thead>\n",
        "    <tr style=\"text-align: right;\">\n",
        "      <th></th>\n",
        "      <th>Open</th>\n",
        "      <th>High</th>\n",
        "      <th>Low</th>\n",
        "      <th>Close</th>\n",
        "      <th>Volume</th>\n",
        "      <th>Adj Close</th>\n",
        "      <th>diff</th>\n",
        "    </tr>\n",
        "    <tr>\n",
        "      <th>Date</th>\n",
        "      <th></th>\n",
        "      <th></th>\n",
        "      <th></th>\n",
        "      <th></th>\n",
        "      <th></th>\n",
        "      <th></th>\n",
        "      <th></th>\n",
        "    </tr>\n",
        "  </thead>\n",
        "  <tbody>\n",
        "    <tr>\n",
        "      <th>2006-10-02</th>\n",
        "      <td> 75.10</td>\n",
        "      <td> 75.87</td>\n",
        "      <td> 74.30</td>\n",
        "      <td> 74.86</td>\n",
        "      <td> 178159800</td>\n",
        "      <td> 10.09</td>\n",
        "      <td> 0.24</td>\n",
        "    </tr>\n",
        "    <tr>\n",
        "      <th>2006-10-03</th>\n",
        "      <td> 74.45</td>\n",
        "      <td> 74.95</td>\n",
        "      <td> 73.19</td>\n",
        "      <td> 74.08</td>\n",
        "      <td> 197677200</td>\n",
        "      <td>  9.98</td>\n",
        "      <td> 0.37</td>\n",
        "    </tr>\n",
        "    <tr>\n",
        "      <th>2006-10-04</th>\n",
        "      <td> 74.10</td>\n",
        "      <td> 75.46</td>\n",
        "      <td> 73.16</td>\n",
        "      <td> 75.38</td>\n",
        "      <td> 207270700</td>\n",
        "      <td> 10.16</td>\n",
        "      <td>-1.28</td>\n",
        "    </tr>\n",
        "    <tr>\n",
        "      <th>2006-10-05</th>\n",
        "      <td> 74.53</td>\n",
        "      <td> 76.16</td>\n",
        "      <td> 74.13</td>\n",
        "      <td> 74.83</td>\n",
        "      <td> 170970800</td>\n",
        "      <td> 10.08</td>\n",
        "      <td>-0.30</td>\n",
        "    </tr>\n",
        "    <tr>\n",
        "      <th>2006-10-06</th>\n",
        "      <td> 74.42</td>\n",
        "      <td> 75.04</td>\n",
        "      <td> 73.81</td>\n",
        "      <td> 74.22</td>\n",
        "      <td> 116739700</td>\n",
        "      <td> 10.00</td>\n",
        "      <td> 0.20</td>\n",
        "    </tr>\n",
        "  </tbody>\n",
        "</table>\n",
        "</div>"
       ],
       "metadata": {},
       "output_type": "pyout",
       "prompt_number": 13,
       "text": [
        "             Open   High    Low  Close     Volume  Adj Close  diff\n",
        "Date                                                              \n",
        "2006-10-02  75.10  75.87  74.30  74.86  178159800      10.09  0.24\n",
        "2006-10-03  74.45  74.95  73.19  74.08  197677200       9.98  0.37\n",
        "2006-10-04  74.10  75.46  73.16  75.38  207270700      10.16 -1.28\n",
        "2006-10-05  74.53  76.16  74.13  74.83  170970800      10.08 -0.30\n",
        "2006-10-06  74.42  75.04  73.81  74.22  116739700      10.00  0.20"
       ]
      }
     ],
     "prompt_number": 13
    },
    {
     "cell_type": "markdown",
     "metadata": {},
     "source": [
      "##Interactive\n",
      "We can have some interacitve elements in the notebook."
     ]
    },
    {
     "cell_type": "code",
     "collapsed": false,
     "input": [
      "def show_col(dataframe, name):\n",
      "    ts = dataframe[name][-10:]\n",
      "    print ts"
     ],
     "language": "python",
     "metadata": {},
     "outputs": [],
     "prompt_number": 20
    },
    {
     "cell_type": "code",
     "collapsed": false,
     "input": [
      "from IPython.html.widgets import interact, fixed"
     ],
     "language": "python",
     "metadata": {},
     "outputs": [],
     "prompt_number": 21
    },
    {
     "cell_type": "code",
     "collapsed": false,
     "input": [
      "interact(show_col, dataframe=fixed(df), name=list(df.columns.values))"
     ],
     "language": "python",
     "metadata": {},
     "outputs": [
      {
       "output_type": "stream",
       "stream": "stdout",
       "text": [
        "Date\n",
        "2014-12-18    111.87\n",
        "2014-12-19    112.26\n",
        "2014-12-22    112.16\n",
        "2014-12-23    113.23\n",
        "2014-12-24    112.58\n",
        "2014-12-26    112.10\n",
        "2014-12-29    113.79\n",
        "2014-12-30    113.64\n",
        "2014-12-31    112.82\n",
        "2015-01-02    111.39\n",
        "Name: Open, dtype: float64\n"
       ]
      },
      {
       "metadata": {},
       "output_type": "pyout",
       "prompt_number": 22,
       "text": [
        "<function __main__.show_col>"
       ]
      }
     ],
     "prompt_number": 22
    },
    {
     "cell_type": "markdown",
     "metadata": {},
     "source": [
      "#Plot"
     ]
    },
    {
     "cell_type": "code",
     "collapsed": false,
     "input": [
      "close_px = df['Adj Close']\n",
      "mavg = pd.rolling_mean(close_px, 40)"
     ],
     "language": "python",
     "metadata": {},
     "outputs": [],
     "prompt_number": 23
    },
    {
     "cell_type": "code",
     "collapsed": false,
     "input": [
      "%pylab inline\n",
      "close_px.plot(label='AAPL')\n",
      "mavg.plot(label='mavg')\n",
      "plt.legend(loc=4)"
     ],
     "language": "python",
     "metadata": {},
     "outputs": [
      {
       "output_type": "stream",
       "stream": "stdout",
       "text": [
        "Populating the interactive namespace from numpy and matplotlib\n"
       ]
      },
      {
       "metadata": {},
       "output_type": "pyout",
       "prompt_number": 35,
       "text": [
        "<matplotlib.legend.Legend at 0x110a7c950>"
       ]
      },
      {
       "metadata": {},
       "output_type": "display_data",
       "png": "[encoded data removed]",
       "text": [
        "<matplotlib.figure.Figure at 0x111223890>"
       ]
      }
     ],
     "prompt_number": 35
    },
    {
     "cell_type": "code",
     "collapsed": false,
     "input": [],
     "language": "python",
     "metadata": {},
     "outputs": []
    }
   ],
   "metadata": {}
  }
 ]
}