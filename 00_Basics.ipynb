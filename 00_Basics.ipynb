{
 "metadata": {
  "name": "",
  "signature": "sha256:f15d31b87dc7552f72199959115a79a0ea0f08ec0a58e46a5016c4393da78f6b"
 },
 "nbformat": 3,
 "nbformat_minor": 0,
 "worksheets": [
  {
   "cells": [
    {
     "cell_type": "markdown",
     "metadata": {},
     "source": [
      "#Install iPython"
     ]
    },
    {
     "cell_type": "markdown",
     "metadata": {},
     "source": [
      "Installation is easy. Optional: Use an enviroment like virtualenv to install the python code.\n",
      "\n",
      "Install with pip: `pip install iPython`\n",
      "\n",
      "Or download and install a scientific package, which delivers a lot of useful python libraries:\n",
      "\n",
      "- Anaconda http://continuum.io/downloads\n",
      "- Enthought Canopy https://www.enthought.com/\n"
     ]
    },
    {
     "cell_type": "markdown",
     "metadata": {},
     "source": [
      "#Basics"
     ]
    },
    {
     "cell_type": "markdown",
     "metadata": {},
     "source": [
      "##Cells"
     ]
    },
    {
     "cell_type": "code",
     "collapsed": false,
     "input": [
      "# this is a cell"
     ],
     "language": "python",
     "metadata": {},
     "outputs": [],
     "prompt_number": 1
    },
    {
     "cell_type": "code",
     "collapsed": false,
     "input": [
      "# in a cell you can run python code\n",
      "a = 10\n",
      "b = 20\n",
      "a + b"
     ],
     "language": "python",
     "metadata": {},
     "outputs": [
      {
       "metadata": {},
       "output_type": "pyout",
       "prompt_number": 2,
       "text": [
        "30"
       ]
      }
     ],
     "prompt_number": 2
    },
    {
     "cell_type": "raw",
     "metadata": {},
     "source": [
      "Or use a cell to write your documentation by using markdown."
     ]
    },
    {
     "cell_type": "markdown",
     "metadata": {},
     "source": [
      "## Tab\n",
      "Tab completion is quite powerful in iPython."
     ]
    },
    {
     "cell_type": "markdown",
     "metadata": {},
     "source": [
      "##Suppress"
     ]
    },
    {
     "cell_type": "markdown",
     "metadata": {},
     "source": [
      "You can supres the output with a ;"
     ]
    },
    {
     "cell_type": "code",
     "collapsed": false,
     "input": [
      "a + b;"
     ],
     "language": "python",
     "metadata": {},
     "outputs": [],
     "prompt_number": 3
    },
    {
     "cell_type": "markdown",
     "metadata": {},
     "source": [
      "##History"
     ]
    },
    {
     "cell_type": "code",
     "collapsed": false,
     "input": [
      "_"
     ],
     "language": "python",
     "metadata": {},
     "outputs": [
      {
       "metadata": {},
       "output_type": "pyout",
       "prompt_number": 4,
       "text": [
        "30"
       ]
      }
     ],
     "prompt_number": 4
    },
    {
     "cell_type": "code",
     "collapsed": false,
     "input": [
      "a"
     ],
     "language": "python",
     "metadata": {},
     "outputs": [
      {
       "metadata": {},
       "output_type": "pyout",
       "prompt_number": 5,
       "text": [
        "10"
       ]
      }
     ],
     "prompt_number": 5
    },
    {
     "cell_type": "code",
     "collapsed": false,
     "input": [
      "__"
     ],
     "language": "python",
     "metadata": {},
     "outputs": [
      {
       "metadata": {},
       "output_type": "pyout",
       "prompt_number": 6,
       "text": [
        "30"
       ]
      }
     ],
     "prompt_number": 6
    },
    {
     "cell_type": "code",
     "collapsed": false,
     "input": [
      "_i"
     ],
     "language": "python",
     "metadata": {},
     "outputs": [
      {
       "metadata": {},
       "output_type": "pyout",
       "prompt_number": 7,
       "text": [
        "u'__'"
       ]
      }
     ],
     "prompt_number": 7
    },
    {
     "cell_type": "code",
     "collapsed": false,
     "input": [
      "In[3]"
     ],
     "language": "python",
     "metadata": {},
     "outputs": [
      {
       "metadata": {},
       "output_type": "pyout",
       "prompt_number": 8,
       "text": [
        "u'a + b;'"
       ]
      }
     ],
     "prompt_number": 8
    },
    {
     "cell_type": "code",
     "collapsed": false,
     "input": [
      "Out[2]"
     ],
     "language": "python",
     "metadata": {},
     "outputs": [
      {
       "metadata": {},
       "output_type": "pyout",
       "prompt_number": 9,
       "text": [
        "30"
       ]
      }
     ],
     "prompt_number": 9
    },
    {
     "cell_type": "code",
     "collapsed": false,
     "input": [
      "%history -l 10"
     ],
     "language": "python",
     "metadata": {},
     "outputs": [
      {
       "output_type": "stream",
       "stream": "stdout",
       "text": [
        "a\n",
        "__\n",
        "_i\n",
        "In[3]\n",
        "Out[2]\n",
        "%history \u2013l 10\n",
        "%history \u2013l 10\n",
        "%history \u2013l\n",
        "%history?\n",
        "%history -l [10]\n"
       ]
      }
     ],
     "prompt_number": 15
    },
    {
     "cell_type": "markdown",
     "metadata": {},
     "source": [
      "##Help"
     ]
    },
    {
     "cell_type": "code",
     "collapsed": false,
     "input": [
      "import sys\n",
      "sys?"
     ],
     "language": "python",
     "metadata": {},
     "outputs": [],
     "prompt_number": 16
    },
    {
     "cell_type": "code",
     "collapsed": false,
     "input": [
      "%ls?"
     ],
     "language": "python",
     "metadata": {},
     "outputs": [],
     "prompt_number": 17
    },
    {
     "cell_type": "markdown",
     "metadata": {},
     "source": [
      "Use shift tab over a function name to see the declaration information."
     ]
    },
    {
     "cell_type": "markdown",
     "metadata": {},
     "source": [
      "##Shell commands"
     ]
    },
    {
     "cell_type": "markdown",
     "metadata": {},
     "source": [
      "You can use the shell command (e.g. bash) with a `!`"
     ]
    },
    {
     "cell_type": "code",
     "collapsed": false,
     "input": [
      "!ls"
     ],
     "language": "python",
     "metadata": {},
     "outputs": [
      {
       "output_type": "stream",
       "stream": "stdout",
       "text": [
        "01_numpy.ipynb\r\n",
        "02_audio.ipynb\r\n",
        "03_R.ipynb\r\n",
        "04_Cython.ipynb\r\n",
        "DataLab_final_logo__ColourURL_--UPDATED.png\r\n",
        "Pandas.ipynb\r\n",
        "Untitled0.ipynb\r\n",
        "aapl_ohlc.csv\r\n",
        "deepscore_cnn.py\r\n",
        "\u001b[34mdeepscore_simple_1\u001b[m\u001b[m\r\n",
        "mnist.pkl.gz\r\n",
        "mnist.py\r\n",
        "mnist.pyc\r\n",
        "mnist_conv.py\r\n",
        "png2pickle.ipynb\r\n",
        "title.ipynb\r\n"
       ]
      }
     ],
     "prompt_number": 18
    },
    {
     "cell_type": "markdown",
     "metadata": {},
     "source": [
      "Assigne to a python variable."
     ]
    },
    {
     "cell_type": "code",
     "collapsed": false,
     "input": [
      "files = !ls\n",
      "files"
     ],
     "language": "python",
     "metadata": {},
     "outputs": [
      {
       "metadata": {},
       "output_type": "pyout",
       "prompt_number": 20,
       "text": [
        "['01_numpy.ipynb',\n",
        " '02_audio.ipynb',\n",
        " '03_R.ipynb',\n",
        " '04_Cython.ipynb',\n",
        " 'DataLab_final_logo__ColourURL_--UPDATED.png',\n",
        " 'Pandas.ipynb',\n",
        " 'Untitled0.ipynb',\n",
        " 'aapl_ohlc.csv',\n",
        " 'deepscore_cnn.py',\n",
        " 'deepscore_simple_1',\n",
        " 'mnist.pkl.gz',\n",
        " 'mnist.py',\n",
        " 'mnist.pyc',\n",
        " 'mnist_conv.py',\n",
        " 'png2pickle.ipynb',\n",
        " 'title.ipynb']"
       ]
      }
     ],
     "prompt_number": 20
    },
    {
     "cell_type": "markdown",
     "metadata": {},
     "source": [
      "#Rich content"
     ]
    },
    {
     "cell_type": "markdown",
     "metadata": {},
     "source": [
      "IPython uses the full potential of modern web techonologies.\n",
      "\n",
      "In Python, objects can declare their textual representation using the `__repr__` method. IPython expands on this idea and allows objects to declare other, richer representations including:\n",
      "\n",
      "- HTML\n",
      "- JSON\n",
      "- PNG\n",
      "- JPEG\n",
      "- SVG\n",
      "- LaTeX"
     ]
    },
    {
     "cell_type": "code",
     "collapsed": false,
     "input": [
      "from IPython.display import HTML\n",
      "\n",
      "HTML('<iframe src=http://dlab.zhaw.ch width=800 height=350></iframe>')"
     ],
     "language": "python",
     "metadata": {},
     "outputs": [
      {
       "html": [
        "<iframe src=http://dlab.zhaw.ch width=800 height=350></iframe>"
       ],
       "metadata": {},
       "output_type": "pyout",
       "prompt_number": 26,
       "text": [
        "<IPython.core.display.HTML at 0x10680ce10>"
       ]
      }
     ],
     "prompt_number": 26
    },
    {
     "cell_type": "code",
     "collapsed": false,
     "input": [
      "from IPython.display import Image\n",
      "Image('DataLab_final_logo__ColourURL_--UPDATED.png')"
     ],
     "language": "python",
     "metadata": {},
     "outputs": [
      {
       "metadata": {},
       "output_type": "pyout",
       "png": "[encoded data removed]",
       "prompt_number": 28,
       "text": [
        "<IPython.core.display.Image at 0x105b8e210>"
       ]
      }
     ],
     "prompt_number": 28
    },
    {
     "cell_type": "markdown",
     "metadata": {},
     "source": [
      "#Publish\n",
      "\n",
      "Store your Notebook in a git repository and point the NDViewer to it.\n",
      "\n",
      "NDViewer http://nbviewer.ipython.org/"
     ]
    },
    {
     "cell_type": "markdown",
     "metadata": {},
     "source": [
      "#Collaboration"
     ]
    },
    {
     "cell_type": "code",
     "collapsed": false,
     "input": [
      "from datetime import timedelta\n",
      "from IPython.display import YouTubeVideo\n",
      "YouTubeVideo('F4rFuIb1Ie4', start=int(timedelta(hours=0, minutes=44, seconds=32).total_seconds()))"
     ],
     "language": "python",
     "metadata": {},
     "outputs": [
      {
       "html": [
        "\n",
        "        <iframe\n",
        "            width=\"400\"\n",
        "            height=300\"\n",
        "            src=\"https://www.youtube.com/embed/F4rFuIb1Ie4?start=2672\"\n",
        "            frameborder=\"0\"\n",
        "            allowfullscreen\n",
        "        ></iframe>\n",
        "        "
       ],
       "metadata": {},
       "output_type": "pyout",
       "prompt_number": 36,
       "text": [
        "<IPython.lib.display.YouTubeVideo at 0x105b98850>"
       ]
      }
     ],
     "prompt_number": 36
    },
    {
     "cell_type": "code",
     "collapsed": false,
     "input": [],
     "language": "python",
     "metadata": {},
     "outputs": []
    }
   ],
   "metadata": {}
  }
 ]
}